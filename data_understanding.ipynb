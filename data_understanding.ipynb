{
 "cells": [
  {
   "cell_type": "code",
   "execution_count": 4,
   "metadata": {},
   "outputs": [],
   "source": [
    "## 5. Data Understanding\n",
    "\n",
    "### 5.1 Descrisão dos Dados"
   ]
  },
  {
   "cell_type": "code",
   "execution_count": 1,
   "metadata": {},
   "outputs": [],
   "source": [
    "#Set pandas options\n",
    "import pandas as pd\n",
    "pd.set_option('display.float_format', lambda x: '%.2f' % x)"
   ]
  },
  {
   "cell_type": "code",
   "execution_count": 2,
   "metadata": {},
   "outputs": [
    {
     "name": "stdout",
     "output_type": "stream",
     "text": [
      "<class 'pandas.core.frame.DataFrame'>\n",
      "RangeIndex: 40816178 entries, 0 to 40816177\n",
      "Data columns (total 7 columns):\n",
      " #   Column              Dtype  \n",
      "---  ------              -----  \n",
      " 0   contribuinte_n      object \n",
      " 1   CEP                 object \n",
      " 2   terreno_valorm2     float64\n",
      " 3   construcao_valorm2  float64\n",
      " 4   imovel_idade        float64\n",
      " 5   propriedade_tipo    object \n",
      " 6   iptu_ano            int64  \n",
      "dtypes: float64(3), int64(1), object(3)\n",
      "memory usage: 2.1+ GB\n"
     ]
    }
   ],
   "source": [
    "#Check the features datatypes and change it as needed\n",
    "df = pd.read_csv('dados_iptu.csv')\n",
    "\n",
    "#DataFrame informations\n",
    "df.info()"
   ]
  },
  {
   "cell_type": "code",
   "execution_count": 3,
   "metadata": {},
   "outputs": [
    {
     "name": "stdout",
     "output_type": "stream",
     "text": [
      "<class 'pandas.core.frame.DataFrame'>\n",
      "RangeIndex: 40816178 entries, 0 to 40816177\n",
      "Data columns (total 7 columns):\n",
      " #   Column              Dtype   \n",
      "---  ------              -----   \n",
      " 0   contribuinte_n      category\n",
      " 1   CEP                 category\n",
      " 2   terreno_valorm2     float32 \n",
      " 3   construcao_valorm2  float32 \n",
      " 4   imovel_idade        int16   \n",
      " 5   propriedade_tipo    category\n",
      " 6   iptu_ano            int16   \n",
      "dtypes: category(3), float32(2), int16(2)\n",
      "memory usage: 976.4 MB\n"
     ]
    }
   ],
   "source": [
    "#Define function to change datatypes and speed up the following processes\n",
    "def transform_dtype(data):\n",
    "     #Readequar colunas com seus respectivos tipos de dados para aumento de performance -> 90% de diminuição no tamanho do dataframe\n",
    "        data['imovel_idade'] = data['imovel_idade'].apply(pd.to_numeric).astype('int16')\n",
    "        data['iptu_ano'] = data['iptu_ano'].apply(pd.to_numeric).astype('int16')\n",
    "        data['terreno_valorm2'] = data['terreno_valorm2'].apply(pd.to_numeric).astype('float32')\n",
    "        data['construcao_valorm2'] = data['construcao_valorm2'].apply(pd.to_numeric).astype('float32')\n",
    "        data['propriedade_tipo'] = data['propriedade_tipo'].astype('category')\n",
    "        data[\"CEP\"] = data[\"CEP\"].astype('category')\n",
    "        data[\"contribuinte_n\"] = data[\"contribuinte_n\"].astype('category')\n",
    "\n",
    "        return data\n",
    "\n",
    "#Redefinir variáveis para economia de memória\n",
    "df = transform_dtype(df)\n",
    "df.info()"
   ]
  },
  {
   "cell_type": "code",
   "execution_count": 4,
   "metadata": {},
   "outputs": [
    {
     "data": {
      "text/plain": [
       "(40816178, 7)"
      ]
     },
     "execution_count": 4,
     "metadata": {},
     "output_type": "execute_result"
    }
   ],
   "source": [
    "#How many rows, colunms\n",
    "df.shape"
   ]
  },
  {
   "cell_type": "code",
   "execution_count": 5,
   "metadata": {},
   "outputs": [
    {
     "data": {
      "text/html": [
       "<div>\n",
       "<style scoped>\n",
       "    .dataframe tbody tr th:only-of-type {\n",
       "        vertical-align: middle;\n",
       "    }\n",
       "\n",
       "    .dataframe tbody tr th {\n",
       "        vertical-align: top;\n",
       "    }\n",
       "\n",
       "    .dataframe thead th {\n",
       "        text-align: right;\n",
       "    }\n",
       "</style>\n",
       "<table border=\"1\" class=\"dataframe\">\n",
       "  <thead>\n",
       "    <tr style=\"text-align: right;\">\n",
       "      <th></th>\n",
       "      <th>contribuinte_n</th>\n",
       "      <th>CEP</th>\n",
       "      <th>terreno_valorm2</th>\n",
       "      <th>construcao_valorm2</th>\n",
       "      <th>imovel_idade</th>\n",
       "      <th>propriedade_tipo</th>\n",
       "      <th>iptu_ano</th>\n",
       "    </tr>\n",
       "  </thead>\n",
       "  <tbody>\n",
       "    <tr>\n",
       "      <th>0</th>\n",
       "      <td>0010030001-4</td>\n",
       "      <td>01104-001</td>\n",
       "      <td>100.41</td>\n",
       "      <td>129.07</td>\n",
       "      <td>1924</td>\n",
       "      <td>comercial horizontal - Padro B</td>\n",
       "      <td>1995</td>\n",
       "    </tr>\n",
       "    <tr>\n",
       "      <th>1</th>\n",
       "      <td>0010030002-2</td>\n",
       "      <td>01104-001</td>\n",
       "      <td>100.41</td>\n",
       "      <td>93.88</td>\n",
       "      <td>1944</td>\n",
       "      <td>comercial horizontal - Padro A</td>\n",
       "      <td>1995</td>\n",
       "    </tr>\n",
       "    <tr>\n",
       "      <th>2</th>\n",
       "      <td>0010030003-0</td>\n",
       "      <td>01104-001</td>\n",
       "      <td>100.41</td>\n",
       "      <td>93.88</td>\n",
       "      <td>1944</td>\n",
       "      <td>comercial horizontal - Padro A</td>\n",
       "      <td>1995</td>\n",
       "    </tr>\n",
       "    <tr>\n",
       "      <th>3</th>\n",
       "      <td>0010030004-9</td>\n",
       "      <td>01104-001</td>\n",
       "      <td>100.41</td>\n",
       "      <td>129.07</td>\n",
       "      <td>1944</td>\n",
       "      <td>comercial horizontal - Padro B</td>\n",
       "      <td>1995</td>\n",
       "    </tr>\n",
       "    <tr>\n",
       "      <th>4</th>\n",
       "      <td>0010030005-7</td>\n",
       "      <td>01104-001</td>\n",
       "      <td>100.41</td>\n",
       "      <td>93.88</td>\n",
       "      <td>1944</td>\n",
       "      <td>comercial horizontal - Padro A</td>\n",
       "      <td>1995</td>\n",
       "    </tr>\n",
       "  </tbody>\n",
       "</table>\n",
       "</div>"
      ],
      "text/plain": [
       "  contribuinte_n        CEP  terreno_valorm2  construcao_valorm2  \\\n",
       "0   0010030001-4  01104-001           100.41              129.07   \n",
       "1   0010030002-2  01104-001           100.41               93.88   \n",
       "2   0010030003-0  01104-001           100.41               93.88   \n",
       "3   0010030004-9  01104-001           100.41              129.07   \n",
       "4   0010030005-7  01104-001           100.41               93.88   \n",
       "\n",
       "   imovel_idade                propriedade_tipo  iptu_ano  \n",
       "0          1924  comercial horizontal - Padro B      1995  \n",
       "1          1944  comercial horizontal - Padro A      1995  \n",
       "2          1944  comercial horizontal - Padro A      1995  \n",
       "3          1944  comercial horizontal - Padro B      1995  \n",
       "4          1944  comercial horizontal - Padro A      1995  "
      ]
     },
     "execution_count": 5,
     "metadata": {},
     "output_type": "execute_result"
    }
   ],
   "source": [
    "#Como são os dados\n",
    "df.head()"
   ]
  },
  {
   "cell_type": "markdown",
   "metadata": {},
   "source": [
    "#### Executive Summary\n",
    "Variáveis         | Explicação\n",
    ":-----------------|:-------------:\n",
    "contribuinte_n    | Número único da licença do imóvel \n",
    "CEP               | Código postal do imóvel\n",
    "terreno_valorm2   | Valor por metro quadrado do terreno medido pela prefeitura\n",
    "construcao_valorm2| Valor por metro quadrado do imóvel medido pela prefeitura\n",
    "imovel_idade      | Ano de conclusão do empreendimento\n",
    "propriedade_tipo  | Tipo de imóvel + Padrões de construção\n",
    "iptu_ano          | Ano do recolhimento do IPTU"
   ]
  },
  {
   "cell_type": "markdown",
   "metadata": {},
   "source": [
    "### 5.2 Exploração dos dados"
   ]
  },
  {
   "cell_type": "code",
   "execution_count": 6,
   "metadata": {},
   "outputs": [
    {
     "data": {
      "text/html": [
       "<div>\n",
       "<style scoped>\n",
       "    .dataframe tbody tr th:only-of-type {\n",
       "        vertical-align: middle;\n",
       "    }\n",
       "\n",
       "    .dataframe tbody tr th {\n",
       "        vertical-align: top;\n",
       "    }\n",
       "\n",
       "    .dataframe thead th {\n",
       "        text-align: right;\n",
       "    }\n",
       "</style>\n",
       "<table border=\"1\" class=\"dataframe\">\n",
       "  <thead>\n",
       "    <tr style=\"text-align: right;\">\n",
       "      <th></th>\n",
       "      <th>terreno_valorm2</th>\n",
       "      <th>construcao_valorm2</th>\n",
       "      <th>imovel_idade</th>\n",
       "      <th>iptu_ano</th>\n",
       "    </tr>\n",
       "  </thead>\n",
       "  <tbody>\n",
       "    <tr>\n",
       "      <th>count</th>\n",
       "      <td>40816178.00</td>\n",
       "      <td>40816178.00</td>\n",
       "      <td>40816178.00</td>\n",
       "      <td>40816178.00</td>\n",
       "    </tr>\n",
       "    <tr>\n",
       "      <th>mean</th>\n",
       "      <td>858.75</td>\n",
       "      <td>764.11</td>\n",
       "      <td>1891.41</td>\n",
       "      <td>2009.02</td>\n",
       "    </tr>\n",
       "    <tr>\n",
       "      <th>std</th>\n",
       "      <td>1572.70</td>\n",
       "      <td>638.93</td>\n",
       "      <td>416.29</td>\n",
       "      <td>8.01</td>\n",
       "    </tr>\n",
       "    <tr>\n",
       "      <th>min</th>\n",
       "      <td>1.55</td>\n",
       "      <td>0.00</td>\n",
       "      <td>0.00</td>\n",
       "      <td>1995.00</td>\n",
       "    </tr>\n",
       "    <tr>\n",
       "      <th>25%</th>\n",
       "      <td>116.00</td>\n",
       "      <td>322.66</td>\n",
       "      <td>1970.00</td>\n",
       "      <td>2003.00</td>\n",
       "    </tr>\n",
       "    <tr>\n",
       "      <th>50%</th>\n",
       "      <td>352.63</td>\n",
       "      <td>560.00</td>\n",
       "      <td>1982.00</td>\n",
       "      <td>2009.00</td>\n",
       "    </tr>\n",
       "    <tr>\n",
       "      <th>75%</th>\n",
       "      <td>928.00</td>\n",
       "      <td>990.00</td>\n",
       "      <td>1993.00</td>\n",
       "      <td>2017.00</td>\n",
       "    </tr>\n",
       "    <tr>\n",
       "      <th>max</th>\n",
       "      <td>28815.00</td>\n",
       "      <td>4249.00</td>\n",
       "      <td>2020.00</td>\n",
       "      <td>2021.00</td>\n",
       "    </tr>\n",
       "  </tbody>\n",
       "</table>\n",
       "</div>"
      ],
      "text/plain": [
       "       terreno_valorm2  construcao_valorm2  imovel_idade    iptu_ano\n",
       "count      40816178.00         40816178.00   40816178.00 40816178.00\n",
       "mean            858.75              764.11       1891.41     2009.02\n",
       "std            1572.70              638.93        416.29        8.01\n",
       "min               1.55                0.00          0.00     1995.00\n",
       "25%             116.00              322.66       1970.00     2003.00\n",
       "50%             352.63              560.00       1982.00     2009.00\n",
       "75%             928.00              990.00       1993.00     2017.00\n",
       "max           28815.00             4249.00       2020.00     2021.00"
      ]
     },
     "execution_count": 6,
     "metadata": {},
     "output_type": "execute_result"
    }
   ],
   "source": [
    "#Resumo Estatístico das features numericas\n",
    "df.describe()"
   ]
  },
  {
   "cell_type": "markdown",
   "metadata": {},
   "source": [
    "Na média, os valores dos terrenos são mais caros do que os valores das construções, o que indica uma favorecimento a tese de que a localização é o mais importante na compra de um imóvel. O desvio padrão mais elevado no valor dos terrenos demonstra que o investidor deve ter mais cautela quanto a localização em relação a conservação do empreendimento na hora de comprar seu imóvel. Importante mencionar que em todas as colunas, exceto no iptu_ano, existem valores anomalos. Como valores anomalos, no valor por m2 tanto dos terreno como das construcoes observamos valores próximos de 0 reais. No ano de construção dos imoveis, tambem observamos valores próximos de 0 d.c."
   ]
  },
  {
   "cell_type": "code",
   "execution_count": 8,
   "metadata": {},
   "outputs": [
    {
     "data": {
      "text/html": [
       "<div>\n",
       "<style scoped>\n",
       "    .dataframe tbody tr th:only-of-type {\n",
       "        vertical-align: middle;\n",
       "    }\n",
       "\n",
       "    .dataframe tbody tr th {\n",
       "        vertical-align: top;\n",
       "    }\n",
       "\n",
       "    .dataframe thead th {\n",
       "        text-align: right;\n",
       "    }\n",
       "</style>\n",
       "<table border=\"1\" class=\"dataframe\">\n",
       "  <thead>\n",
       "    <tr style=\"text-align: right;\">\n",
       "      <th></th>\n",
       "      <th>contribuinte_n</th>\n",
       "      <th>CEP</th>\n",
       "      <th>propriedade_tipo</th>\n",
       "    </tr>\n",
       "  </thead>\n",
       "  <tbody>\n",
       "    <tr>\n",
       "      <th>count</th>\n",
       "      <td>40816178</td>\n",
       "      <td>40816178</td>\n",
       "      <td>40816178</td>\n",
       "    </tr>\n",
       "    <tr>\n",
       "      <th>unique</th>\n",
       "      <td>3754173</td>\n",
       "      <td>47481</td>\n",
       "      <td>54</td>\n",
       "    </tr>\n",
       "    <tr>\n",
       "      <th>top</th>\n",
       "      <td>0010030001-4</td>\n",
       "      <td>00000-000</td>\n",
       "      <td>residncia vertical - Padro C</td>\n",
       "    </tr>\n",
       "    <tr>\n",
       "      <th>freq</th>\n",
       "      <td>14</td>\n",
       "      <td>65708</td>\n",
       "      <td>7534226</td>\n",
       "    </tr>\n",
       "  </tbody>\n",
       "</table>\n",
       "</div>"
      ],
      "text/plain": [
       "       contribuinte_n        CEP              propriedade_tipo\n",
       "count        40816178   40816178                      40816178\n",
       "unique        3754173      47481                            54\n",
       "top      0010030001-4  00000-000  residncia vertical - Padro C\n",
       "freq               14      65708                       7534226"
      ]
     },
     "execution_count": 8,
     "metadata": {},
     "output_type": "execute_result"
    }
   ],
   "source": [
    "df.describe(include='category')"
   ]
  },
  {
   "cell_type": "code",
   "execution_count": null,
   "metadata": {},
   "outputs": [],
   "source": [
    "df.median(skipna=True)"
   ]
  },
  {
   "cell_type": "markdown",
   "metadata": {},
   "source": [
    "Utilizando a mediana, operação estatística menos sensível a valores anomalos se observa que os valores de construções são mais relevantes do que os valores dos terrenos contrariando a conclusão com base na média. Portanto, sendo tambem sensato ao investidor observar as condições dos imóveis para estimar o valor total a ser pago pelo empreendimento. Outro ponto importante é que mais de 75% dos imóveis amostrados possuem menos de 40 anos de idade."
   ]
  },
  {
   "cell_type": "code",
   "execution_count": 11,
   "metadata": {},
   "outputs": [
    {
     "name": "stdout",
     "output_type": "stream",
     "text": [
      "          terreno_valorm2  construcao_valorm2  imovel_idade\n",
      "iptu_ano                                                   \n",
      "1995                49.73              179.52       1974.00\n",
      "1997                86.01              254.81       1976.00\n",
      "1999                92.49              273.32       1978.00\n",
      "2001                98.79              289.82       1979.00\n",
      "2003               180.85              374.50       1980.00\n",
      "2005               212.09              434.77       1981.00\n",
      "2007               228.82              472.89       1981.00\n",
      "2009               254.43              521.30       1982.00\n",
      "2011               373.00              669.00       1983.00\n",
      "2013               418.00              750.00       1983.00\n",
      "2015               814.00             1070.00       1984.00\n",
      "2017               950.00             1241.00       1985.00\n",
      "2019              1016.00             1322.00       1986.00\n",
      "2021              1045.00             1368.00       1987.00\n"
     ]
    }
   ],
   "source": [
    "#Variação da média nos preços de construção e valor dos terrenos ao longo do tempo\n",
    "print(df.groupby('iptu_ano').median())"
   ]
  },
  {
   "cell_type": "markdown",
   "metadata": {},
   "source": [
    "Uma afirmação recorrente no mercado de capitais é que como os imóveis são ativos reais, eles automáticamente no longo prazo protegem o investidor contra a inflação, mas será que essa afirmação realmente é verdade para todos os imóveis na região metropolitana de São Paulo.\n",
    "\n",
    "Com base nos resultados acima, podemos observar que em 20 anos ocorreu um aumento em média de 2.100% nos valores dos terrenos em São Paulo. No mesmo período, os valores dos imóveis multiplicaram por 7.6x em média. A inflação acumulada desde o início do plano real foi de 524,88%. Ou seja, imóveis em sua maioria protegem contra a inflação."
   ]
  },
  {
   "cell_type": "code",
   "execution_count": 140,
   "metadata": {},
   "outputs": [
    {
     "data": {
      "text/html": [
       "<div>\n",
       "<style scoped>\n",
       "    .dataframe tbody tr th:only-of-type {\n",
       "        vertical-align: middle;\n",
       "    }\n",
       "\n",
       "    .dataframe tbody tr th {\n",
       "        vertical-align: top;\n",
       "    }\n",
       "\n",
       "    .dataframe thead th {\n",
       "        text-align: right;\n",
       "    }\n",
       "</style>\n",
       "<table border=\"1\" class=\"dataframe\">\n",
       "  <thead>\n",
       "    <tr style=\"text-align: right;\">\n",
       "      <th></th>\n",
       "      <th>imovelvalor_1995</th>\n",
       "      <th>imovelvalor_2021</th>\n",
       "      <th>valorizacao_porcentagem</th>\n",
       "    </tr>\n",
       "  </thead>\n",
       "  <tbody>\n",
       "    <tr>\n",
       "      <th>count</th>\n",
       "      <td>2135420.00</td>\n",
       "      <td>2135420.00</td>\n",
       "      <td>2135420.00</td>\n",
       "    </tr>\n",
       "    <tr>\n",
       "      <th>mean</th>\n",
       "      <td>321.35</td>\n",
       "      <td>3315.98</td>\n",
       "      <td>1472.85</td>\n",
       "    </tr>\n",
       "    <tr>\n",
       "      <th>std</th>\n",
       "      <td>389.54</td>\n",
       "      <td>2916.14</td>\n",
       "      <td>3042.82</td>\n",
       "    </tr>\n",
       "    <tr>\n",
       "      <th>min</th>\n",
       "      <td>1.55</td>\n",
       "      <td>48.00</td>\n",
       "      <td>-73.71</td>\n",
       "    </tr>\n",
       "    <tr>\n",
       "      <th>25%</th>\n",
       "      <td>145.83</td>\n",
       "      <td>1393.00</td>\n",
       "      <td>796.13</td>\n",
       "    </tr>\n",
       "    <tr>\n",
       "      <th>50%</th>\n",
       "      <td>228.89</td>\n",
       "      <td>2346.00</td>\n",
       "      <td>934.05</td>\n",
       "    </tr>\n",
       "    <tr>\n",
       "      <th>75%</th>\n",
       "      <td>377.54</td>\n",
       "      <td>4406.00</td>\n",
       "      <td>1122.29</td>\n",
       "    </tr>\n",
       "    <tr>\n",
       "      <th>max</th>\n",
       "      <td>5243.77</td>\n",
       "      <td>33064.00</td>\n",
       "      <td>76320.66</td>\n",
       "    </tr>\n",
       "  </tbody>\n",
       "</table>\n",
       "</div>"
      ],
      "text/plain": [
       "       imovelvalor_1995  imovelvalor_2021  valorizacao_porcentagem\n",
       "count        2135420.00        2135420.00               2135420.00\n",
       "mean             321.35           3315.98                  1472.85\n",
       "std              389.54           2916.14                  3042.82\n",
       "min                1.55             48.00                   -73.71\n",
       "25%              145.83           1393.00                   796.13\n",
       "50%              228.89           2346.00                   934.05\n",
       "75%              377.54           4406.00                  1122.29\n",
       "max             5243.77          33064.00                 76320.66"
      ]
     },
     "execution_count": 140,
     "metadata": {},
     "output_type": "execute_result"
    }
   ],
   "source": [
    "#Somar valores do terreno + construcao para obter valor do imóvel\n",
    "df['imovel_valorm2'] = df['terreno_valorm2'] + df['construcao_valorm2']\n",
    "\n",
    "#Filtrar os valores de 1995 e 2021\n",
    "df_1995 = df.loc[ df['iptu_ano'] == 1995 , ['CEP', 'contribuinte_n', 'imovel_valorm2'] ].rename(columns={'imovel_valorm2': 'imovelvalor_1995'}).copy()\n",
    "df_2021 = df.loc[ df['iptu_ano'] == 2021 , ['CEP', 'contribuinte_n', 'imovel_valorm2'] ].rename(columns={'imovel_valorm2': 'imovelvalor_2021'}).copy()\n",
    "\n",
    "#Juntar valores com base em seu número de contribuinte\n",
    "df_imovel = pd.concat([df_1995.set_index(df_1995['contribuinte_n']),df_2021.set_index(df_2021['contribuinte_n'])], axis = 1, join='inner').iloc[:, [0,2,5]]\n",
    "df_imovel.index.name = None\n",
    "\n",
    "#Qual a imóvel menos valorizou e mais valorizou entre 1995 e 2021?\n",
    "df_imovel['valorizacao_porcentagem'] = ((df_imovel['imovelvalor_2021'] - df_imovel['imovelvalor_1995'])/df_imovel['imovelvalor_1995'])*100\n",
    "df_imovel.describe()"
   ]
  },
  {
   "cell_type": "markdown",
   "metadata": {},
   "source": [
    "Em um estudo mais aprofundado e individual, podemos perceber que 75% dos imóveis valorizaram mais do que 790% em 22 anos, ou seja, batendo a inflação com tranquilidade. A mediana de valorização dos imóveis de São Paulo foi de aproximadamente 1000% em 22 anos. Isso significa que existiria uma boa chance de que seu patrimonio teria evoluido em mais de 10x em 22 anos. "
   ]
  },
  {
   "cell_type": "code",
   "execution_count": 82,
   "metadata": {},
   "outputs": [
    {
     "name": "stdout",
     "output_type": "stream",
     "text": [
      "Em 97.76 % dos casos os imóveis na região metropolitana de São Paulo protegeram contra a inflação em 22 anos\n"
     ]
    }
   ],
   "source": [
    "mask = df_imovel['valorizacao_porcentagem'] > 524.88\n",
    "acima_inflacao = 100*(df_imovel.loc[mask].size/df_imovel.size)\n",
    "print('Em {:.2f} % dos casos os imóveis na região metropolitana de São Paulo protegeram contra a inflação em 22 anos'.format(acima_inflacao))"
   ]
  },
  {
   "cell_type": "markdown",
   "metadata": {},
   "source": [
    "Mas quais foram os bairros de são paulo onde os imóveis mais se valorizaram? Aqui vamos explorar como os imóveis localizados em regiões premiums, ou primárias foram em relação ao restante da RMSP."
   ]
  },
  {
   "cell_type": "code",
   "execution_count": null,
   "metadata": {},
   "outputs": [],
   "source": [
    "import numpy as np\n",
    "\n",
    "#Download dos ceps de regiões primárias\n",
    "ceps_bairros = pd.read_excel('ceps.xlsx', 'bairros').dropna()\n",
    "ceps_ruas = pd.read_excel('ceps.xlsx', 'ruas')\n",
    "\n",
    "#Produzindo um novo banco de dados com todos os valores de cep para cada um dos bairros em ceps_bairros\n",
    "cep_bairros = pd.DataFrame(columns={'CEP','localidade'})\n",
    "i = 0\n",
    "\n",
    "for localidade in ceps_bairros['Bairro']:\n",
    "    ceps = pd.Series(np.arange(ceps_bairros.iloc[i, 1], ceps_bairros.iloc[i, 2]))\n",
    "    bairro = [localidade] * len(ceps)\n",
    "    cep_bairros = pd.concat([cep_bairros, pd.DataFrame(data={'CEP': ceps, 'localidade' : bairro})], ignore_index=True)\n",
    "    i += 1\n",
    "\n",
    "#Alterações no formato do CEP e de seu tipo \n",
    "df_imovel['CEP'] = df_imovel['CEP'].apply(lambda x: x.lstrip('0').replace('-','')).astype('int32')\n",
    "\n",
    "#Adicionar coluna localidade com a 'label' dos bairros e ruas nobres\n",
    "df_localidade = pd.merge(df_imovel,cep_bairros, on='CEP', how='left')\n",
    "df_localidade = pd.merge(df_localidade,ceps_ruas, on='CEP', how='left')\n",
    "df_localidade['localidade'].fillna('outros', inplace=True)\n",
    "df_localidade['Rua'].fillna(df_localidade['localidade'], inplace=True)"
   ]
  },
  {
   "cell_type": "code",
   "execution_count": 150,
   "metadata": {},
   "outputs": [
    {
     "data": {
      "image/png": "[encoded data removed]",
      "text/plain": [
       "<Figure size 1080x720 with 1 Axes>"
      ]
     },
     "metadata": {
      "needs_background": "light"
     },
     "output_type": "display_data"
    }
   ],
   "source": [
    "#Plotar valores\n",
    "import seaborn as sns\n",
    "import matplotlib.pyplot as plt\n",
    "\n",
    "plt.figure(figsize=(15,10))\n",
    "sns.barplot(data = df_localidade.groupby('Rua').median().reset_index(), x='Rua', y='valorizacao_porcentagem')\n",
    "plt.xlabel('Bairros Nobres de São Paulo')\n",
    "plt.ylabel('Valorização (%)')\n",
    "plt.title('Apreciação de imóveis em áreas primárias da RMSP')\n",
    "plt.show()"
   ]
  },
  {
   "cell_type": "markdown",
   "metadata": {},
   "source": [
    "### 5.3 Verificação dos Dados"
   ]
  },
  {
   "cell_type": "code",
   "execution_count": null,
   "metadata": {},
   "outputs": [],
   "source": [
    "#Variável Imóvel_idade\n",
    "df[\"imovel_idade\"].sort_values() #Valores menores do que 1880 começam a ser muito questionáveis, pois a construção mais antiga de são paulo ainda em pé é de 1880. "
   ]
  },
  {
   "cell_type": "code",
   "execution_count": null,
   "metadata": {},
   "outputs": [],
   "source": [
    "df[df[\"imovel_idade\"] < 1880].count() #Existem 1883708 registros com idades incorretas de imóveis -> cerca de 4.6% dos dados....."
   ]
  },
  {
   "cell_type": "code",
   "execution_count": null,
   "metadata": {},
   "outputs": [],
   "source": []
  }
 ],
 "metadata": {
  "interpreter": {
   "hash": "0f4da20e4e7181c865f1d9f9ed5c2ac0aa92a11dcd1ce7fd311dc4224467344f"
  },
  "kernelspec": {
   "display_name": "Python 3.10.4 64-bit (windows store)",
   "language": "python",
   "name": "python3"
  },
  "language_info": {
   "codemirror_mode": {
    "name": "ipython",
    "version": 3
   },
   "file_extension": ".py",
   "mimetype": "text/x-python",
   "name": "python",
   "nbconvert_exporter": "python",
   "pygments_lexer": "ipython3",
   "version": "3.10.4"
  },
  "orig_nbformat": 4
 },
 "nbformat": 4,
 "nbformat_minor": 2
}
