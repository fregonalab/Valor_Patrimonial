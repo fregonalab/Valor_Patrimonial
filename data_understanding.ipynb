{
 "cells": [
  {
   "cell_type": "code",
   "execution_count": null,
   "metadata": {},
   "outputs": [],
   "source": [
    "## 5. Data Understanding\n",
    "\n",
    "### 5.1 Data Summary"
   ]
  },
  {
   "cell_type": "code",
   "execution_count": 2,
   "metadata": {},
   "outputs": [],
   "source": [
    "#Set pandas options\n",
    "import pandas as pd\n",
    "pd.set_option('display.float_format', lambda x: '%.2f' % x)"
   ]
  },
  {
   "cell_type": "code",
   "execution_count": 3,
   "metadata": {},
   "outputs": [
    {
     "name": "stdout",
     "output_type": "stream",
     "text": [
      "<class 'pandas.core.frame.DataFrame'>\n",
      "RangeIndex: 40816178 entries, 0 to 40816177\n",
      "Data columns (total 7 columns):\n",
      " #   Column              Dtype  \n",
      "---  ------              -----  \n",
      " 0   contribuinte_n      object \n",
      " 1   CEP                 object \n",
      " 2   terreno_valorm2     float64\n",
      " 3   construcao_valorm2  float64\n",
      " 4   imovel_idade        float64\n",
      " 5   propriedade_tipo    object \n",
      " 6   iptu_ano            int64  \n",
      "dtypes: float64(3), int64(1), object(3)\n",
      "memory usage: 2.1+ GB\n"
     ]
    }
   ],
   "source": [
    "#Check the features datatypes and change it as needed\n",
    "df = pd.read_csv('dados_iptu.csv')\n",
    "\n",
    "#DataFrame informations\n",
    "df.info()"
   ]
  },
  {
   "cell_type": "code",
   "execution_count": 4,
   "metadata": {},
   "outputs": [
    {
     "name": "stdout",
     "output_type": "stream",
     "text": [
      "<class 'pandas.core.frame.DataFrame'>\n",
      "RangeIndex: 40816178 entries, 0 to 40816177\n",
      "Data columns (total 7 columns):\n",
      " #   Column              Dtype   \n",
      "---  ------              -----   \n",
      " 0   contribuinte_n      category\n",
      " 1   CEP                 category\n",
      " 2   terreno_valorm2     float32 \n",
      " 3   construcao_valorm2  float32 \n",
      " 4   imovel_idade        int16   \n",
      " 5   propriedade_tipo    category\n",
      " 6   iptu_ano            int16   \n",
      "dtypes: category(3), float32(2), int16(2)\n",
      "memory usage: 976.4 MB\n"
     ]
    }
   ],
   "source": [
    "#Define function to change datatypes and speed up the following processes\n",
    "def transform_dtype(data):\n",
    "     #Readequar colunas com seus respectivos tipos de dados para aumento de performance -> 90% de diminuição no tamanho do dataframe\n",
    "        data['imovel_idade'] = data['imovel_idade'].apply(pd.to_numeric).astype('int16')\n",
    "        data['iptu_ano'] = data['iptu_ano'].apply(pd.to_numeric).astype('int16')\n",
    "        data['terreno_valorm2'] = data['terreno_valorm2'].apply(pd.to_numeric).astype('float32')\n",
    "        data['construcao_valorm2'] = data['construcao_valorm2'].apply(pd.to_numeric).astype('float32')\n",
    "        data['propriedade_tipo'] = data['propriedade_tipo'].astype('category')\n",
    "        data[\"CEP\"] = data[\"CEP\"].astype('category')\n",
    "        data[\"contribuinte_n\"] = data[\"contribuinte_n\"].astype('category')\n",
    "\n",
    "        return data\n",
    "\n",
    "df = transform_dtype(df)\n",
    "df.info()"
   ]
  },
  {
   "cell_type": "code",
   "execution_count": 5,
   "metadata": {},
   "outputs": [
    {
     "data": {
      "text/plain": [
       "(40816178, 7)"
      ]
     },
     "execution_count": 5,
     "metadata": {},
     "output_type": "execute_result"
    }
   ],
   "source": [
    "#How many rows, colunms\n",
    "df.shape"
   ]
  },
  {
   "cell_type": "code",
   "execution_count": 6,
   "metadata": {},
   "outputs": [
    {
     "data": {
      "text/html": [
       "<div>\n",
       "<style scoped>\n",
       "    .dataframe tbody tr th:only-of-type {\n",
       "        vertical-align: middle;\n",
       "    }\n",
       "\n",
       "    .dataframe tbody tr th {\n",
       "        vertical-align: top;\n",
       "    }\n",
       "\n",
       "    .dataframe thead th {\n",
       "        text-align: right;\n",
       "    }\n",
       "</style>\n",
       "<table border=\"1\" class=\"dataframe\">\n",
       "  <thead>\n",
       "    <tr style=\"text-align: right;\">\n",
       "      <th></th>\n",
       "      <th>contribuinte_n</th>\n",
       "      <th>CEP</th>\n",
       "      <th>terreno_valorm2</th>\n",
       "      <th>construcao_valorm2</th>\n",
       "      <th>imovel_idade</th>\n",
       "      <th>propriedade_tipo</th>\n",
       "      <th>iptu_ano</th>\n",
       "    </tr>\n",
       "  </thead>\n",
       "  <tbody>\n",
       "    <tr>\n",
       "      <th>0</th>\n",
       "      <td>0010030001-4</td>\n",
       "      <td>01104-001</td>\n",
       "      <td>100.41</td>\n",
       "      <td>129.07</td>\n",
       "      <td>1924</td>\n",
       "      <td>comercial horizontal - Padro B</td>\n",
       "      <td>1995</td>\n",
       "    </tr>\n",
       "    <tr>\n",
       "      <th>1</th>\n",
       "      <td>0010030002-2</td>\n",
       "      <td>01104-001</td>\n",
       "      <td>100.41</td>\n",
       "      <td>93.88</td>\n",
       "      <td>1944</td>\n",
       "      <td>comercial horizontal - Padro A</td>\n",
       "      <td>1995</td>\n",
       "    </tr>\n",
       "    <tr>\n",
       "      <th>2</th>\n",
       "      <td>0010030003-0</td>\n",
       "      <td>01104-001</td>\n",
       "      <td>100.41</td>\n",
       "      <td>93.88</td>\n",
       "      <td>1944</td>\n",
       "      <td>comercial horizontal - Padro A</td>\n",
       "      <td>1995</td>\n",
       "    </tr>\n",
       "    <tr>\n",
       "      <th>3</th>\n",
       "      <td>0010030004-9</td>\n",
       "      <td>01104-001</td>\n",
       "      <td>100.41</td>\n",
       "      <td>129.07</td>\n",
       "      <td>1944</td>\n",
       "      <td>comercial horizontal - Padro B</td>\n",
       "      <td>1995</td>\n",
       "    </tr>\n",
       "    <tr>\n",
       "      <th>4</th>\n",
       "      <td>0010030005-7</td>\n",
       "      <td>01104-001</td>\n",
       "      <td>100.41</td>\n",
       "      <td>93.88</td>\n",
       "      <td>1944</td>\n",
       "      <td>comercial horizontal - Padro A</td>\n",
       "      <td>1995</td>\n",
       "    </tr>\n",
       "  </tbody>\n",
       "</table>\n",
       "</div>"
      ],
      "text/plain": [
       "  contribuinte_n        CEP  terreno_valorm2  construcao_valorm2  \\\n",
       "0   0010030001-4  01104-001           100.41              129.07   \n",
       "1   0010030002-2  01104-001           100.41               93.88   \n",
       "2   0010030003-0  01104-001           100.41               93.88   \n",
       "3   0010030004-9  01104-001           100.41              129.07   \n",
       "4   0010030005-7  01104-001           100.41               93.88   \n",
       "\n",
       "   imovel_idade                propriedade_tipo  iptu_ano  \n",
       "0          1924  comercial horizontal - Padro B      1995  \n",
       "1          1944  comercial horizontal - Padro A      1995  \n",
       "2          1944  comercial horizontal - Padro A      1995  \n",
       "3          1944  comercial horizontal - Padro B      1995  \n",
       "4          1944  comercial horizontal - Padro A      1995  "
      ]
     },
     "execution_count": 6,
     "metadata": {},
     "output_type": "execute_result"
    }
   ],
   "source": [
    "#Como são os dados\n",
    "df.head()"
   ]
  },
  {
   "cell_type": "markdown",
   "metadata": {},
   "source": [
    "#### Executive Summary\n",
    "Variáveis         | Explicação\n",
    ":-----------------|:-------------:\n",
    "CEP               | Código postal do imóvel\n",
    "terreno_valorm2   | Valor por metro quadrado do terreno medido pela prefeitura\n",
    "construcao_valorm2| Valor por metro quadrado do imóvel medido pela prefeitura\n",
    "imovel_idade      | Ano de conclusão do empreendimento\n",
    "propriedade_tipo  | Tipo de imóvel + Padrões de construção\n",
    "iptu_ano          | Ano do recolhimento do IPTU"
   ]
  },
  {
   "cell_type": "markdown",
   "metadata": {},
   "source": [
    "### 5.2 Data Exploration\n",
    "\n",
    "#### 5.2.1 Features Numéricas"
   ]
  },
  {
   "cell_type": "code",
   "execution_count": null,
   "metadata": {},
   "outputs": [],
   "source": [
    "#Resumo Estatístico das features numericas\n",
    "df.dropna().describe()"
   ]
  },
  {
   "cell_type": "markdown",
   "metadata": {},
   "source": [
    "Na média, os valores dos terrenos são mais caros do que os valores das construções, o que indica uma favorecimento a tese de que a localização é o mais importante na compra de um imóvel. O desvio padrão mais elevado no valor dos terrenos demonstra que o investidor deve ter mais cautela quanto a localização em relação a conservação do empreendimento na hora de comprar seu imóvel. Importante mencionar que em todas as colunas, exceto no iptu_ano, existem valores anomalos. Como valores anomalos, no valor por m2 tanto dos terreno como das construcoes observamos valores próximos de 0 reais. No ano de construção dos imoveis, tambem observamos valores próximos de 0 d.c."
   ]
  },
  {
   "cell_type": "code",
   "execution_count": null,
   "metadata": {},
   "outputs": [],
   "source": [
    "df.median(skipna=True)"
   ]
  },
  {
   "cell_type": "markdown",
   "metadata": {},
   "source": [
    "Utilizando a mediana, operação estatística menos sensível a valores anomalos se observa que os valores de construções são mais relevantes do que os valores dos terrenos contrariando a conclusão com base na média. Portanto, sendo tambem sensato ao investidor observar as condições dos imóveis para estimar o valor total a ser pago pelo empreendimento. Outro ponto importante é que mais de 75% dos imóveis amostrados possuem menos de 40 anos de idade."
   ]
  },
  {
   "cell_type": "code",
   "execution_count": null,
   "metadata": {},
   "outputs": [],
   "source": [
    "#Variação da média nos preços de construção e valor dos terrenos ao longo do tempo\n",
    "print(df.groupby('iptu_ano').median())"
   ]
  },
  {
   "cell_type": "markdown",
   "metadata": {},
   "source": [
    "Em 20 anos, ocorreu um aumento em média de 2.100% nos valores dos terrenos em São Paulo. No mesmo período, os valores dos imóveis multiplicaram por 7.6x em média. A inflação acumulada desde o início do plano real foi de 524,88%. Ou seja, imóveis em sua maioria protegem contra a inflação."
   ]
  },
  {
   "cell_type": "markdown",
   "metadata": {},
   "source": [
    "### Possíveis Erros"
   ]
  },
  {
   "cell_type": "code",
   "execution_count": null,
   "metadata": {},
   "outputs": [],
   "source": [
    "#Variável Imóvel_idade\n",
    "df[\"imovel_idade\"].sort_values() #Valores menores do que 1880 começam a ser muito questionáveis, pois a construção mais antiga de são paulo ainda em pé é de 1880. "
   ]
  },
  {
   "cell_type": "code",
   "execution_count": null,
   "metadata": {},
   "outputs": [],
   "source": [
    "df[df[\"imovel_idade\"] < 1880].count() #Existem 1883708 registros com idades incorretas de imóveis -> cerca de 4.6% dos dados....."
   ]
  },
  {
   "cell_type": "code",
   "execution_count": null,
   "metadata": {},
   "outputs": [],
   "source": [
    "#Quantos imóveis valorizaram menos do que a inflação?\n",
    "\n",
    "#Somar coluna terreno_valorm2 + construção_valorm2\n",
    "df_imovel = df.loc[:,['terreno_valorm2','construcao_valorm2']].sum(axis=1).reset_index(drop=True)\n",
    "\n",
    "#Adicionar a um novo dataframe\n",
    "df_imovel = pd.concat([df,df_imovel], axis=1).rename(columns={0:\"imovel_valorm2\"}).loc[:, ['iptu_ano','imovel_valorm2']]\n",
    "\n",
    "#Valores dos imoveis de 1995 e 2021\n",
    "df_1995 = df_imovel.loc[df_imovel['iptu_ano'] == 1995, ['imovel_valorm2']]\n",
    "df_2021 = df_imovel.loc[df_imovel['iptu_ano'] == 2021, ['imovel_valorm2']]\n",
    "\n",
    "#\n",
    "df_new = pd.concat([df_1995, df_2021], axis = 1, ignore_index = True)\n",
    "\n",
    "#Valores dos imoveis de 1995 e 2021\n",
    "df_1995 = df_imovel.loc[df_imovel['iptu_ano'] == 1995, ['imovel_valorm2']].reset_index(drop=True)\n",
    "df_2021 = df_imovel.loc[df_imovel['iptu_ano'] == 2021, ['imovel_valorm2']].reset_index(drop=True)\n",
    "\n",
    "#Series resultado da divisão entre os valores dos imóveis em 2021 por 1995\n",
    "df_new = pd.concat([df_1995, df_2021], axis = 1)\n",
    "df_new.head()\n",
    "\n",
    "#Imóvel com menor valorização no periodo\n",
    "\n",
    "#Adicionar uma coluna no webscrapping que identifique o imovel!\n",
    "\n",
    "#Imovel com maior valorização no período"
   ]
  }
 ],
 "metadata": {
  "interpreter": {
   "hash": "0f4da20e4e7181c865f1d9f9ed5c2ac0aa92a11dcd1ce7fd311dc4224467344f"
  },
  "kernelspec": {
   "display_name": "Python 3.10.4 64-bit (windows store)",
   "language": "python",
   "name": "python3"
  },
  "language_info": {
   "codemirror_mode": {
    "name": "ipython",
    "version": 3
   },
   "file_extension": ".py",
   "mimetype": "text/x-python",
   "name": "python",
   "nbconvert_exporter": "python",
   "pygments_lexer": "ipython3",
   "version": "3.10.4"
  },
  "orig_nbformat": 4
 },
 "nbformat": 4,
 "nbformat_minor": 2
}
